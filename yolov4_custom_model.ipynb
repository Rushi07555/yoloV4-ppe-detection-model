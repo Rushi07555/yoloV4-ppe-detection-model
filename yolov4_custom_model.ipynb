{
 "cells": [
  {
   "cell_type": "markdown",
   "metadata": {
    "id": "-2U9jZLJ-pGZ"
   },
   "source": [
    "# **TRAIN A CUSTOM YOLOv4 OBJECT DETECTOR**\n"
   ]
  },
  {
   "cell_type": "markdown",
   "metadata": {
    "id": "HweuaIooIizu"
   },
   "source": [
    "# **In this tutorial, we will be training a custom detector for mask detection using YOLOv4 and Darknet**"
   ]
  },
  {
   "cell_type": "markdown",
   "metadata": {
    "id": "2oMYIMKkad8d"
   },
   "source": [
    "#**HOW TO BEGIN**?\n",
    "\n",
    "* Click on **File** in the menu bar and click on **Save a copy in drive**.This will open a copy of my colab notebook on your browser which you can now use.\n",
    "\n",
    "* Next, once you have opened the copy of my notebook and are connected to the Google Colab VM , click on **Runtime** in the menu bar and click on **Change runtime type**. Select **GPU** and click on save.\n"
   ]
  },
  {
   "cell_type": "markdown",
   "metadata": {
    "id": "klgpFdpHOavA"
   },
   "source": [
    "# **1) Create *`yoloV4-ppe-detection-model`* and *`training`* and *`test`*  folders in your drive**\n",
    "\n",
    " Create a folder named ***yoloV4-ppe-detection-model*** in your disk. \n",
    " \n",
    " Next, create another folder named ***training*** and ***test*** inside the ***yoloV4-ppe-detection-model*** folder. This is where we will save our trained weights (This path is mentioned in the ***obj.data*** file which we will upload later) \n"
   ]
  },
  {
   "cell_type": "markdown",
   "metadata": {
    "id": "iJN3ZZaRaBhS"
   },
   "source": [
    "# **2) Mount drive, link your folder and navigate to /mydrive/yolov4 folder**"
   ]
  },
  {
   "cell_type": "code",
   "execution_count": null,
   "metadata": {
    "id": "DGbG4BwVoQIQ"
   },
   "outputs": [],
   "source": [
    "# this creates a symbolic link so that now the path /content/gdrive/My\\ Drive/ is equal to /mydrive\n",
    "\n",
    "# list the contents of /folder\n",
    "!ls ../yoloV4-ppe-detection-model\n",
    "\n",
    "#Navigate to /mydrive/yoloV4-ppe-detection-model\n",
    "%cd ../yoloV4-ppe-detection-model"
   ]
  },
  {
   "cell_type": "markdown",
   "metadata": {
    "id": "0n-W3iAiY_zx"
   },
   "source": [
    "# **3) Clone `darknet` git repository** "
   ]
  },
  {
   "cell_type": "code",
   "execution_count": null,
   "metadata": {
    "id": "_8qS6Fb8d7Nz"
   },
   "outputs": [],
   "source": [
    "!git clone https://github.com/AlexeyAB/darknet.git"
   ]
  },
  {
   "cell_type": "markdown",
   "metadata": {
    "id": "wuH8LHzDlQNX"
   },
   "source": [
    "# **4) Create & upload the following files which we need for training a custom detector**\n",
    "\n",
    "\n",
    "a.   `Labeled Custom Dataset` \n",
    "\n",
    "b.   `Custom cfg file`\n",
    "\n",
    "c.   `obj.data and obj.names files` \n",
    "\n",
    "d.   `process.py file (to create train.txt and test.txt files for training)`\n",
    "\n",
    "\n"
   ]
  },
  {
   "cell_type": "markdown",
   "metadata": {
    "id": "n4F5kQEfdKkt"
   },
   "source": [
    "## **4(a) Upload the Labeled custom dataset *`obj.zip`* file to the *`yolov4`* folder on your drive**\n",
    "\n",
    "\n",
    "Create the zip file **obj.zip** from the **obj** folder containing both the input image \".jpg\" files and their corresponding YOLO format labeled \".txt\" files. \n",
    "\n",
    "Upload the zip file to the ***yoloV4-ppe-detection-model*** folder on your drive."
   ]
  },
  {
   "cell_type": "markdown",
   "metadata": {
    "id": "xByDKQq3gRmH"
   },
   "source": [
    "## **4(b) Create your custom *`config`* file and upload it to your drive**\n",
    "\n",
    "Download the **yolov4-custom.cfg** file from ***darknet/cfg*** directory, make changes to it, and upload it to the ***yolov4*** folder on your drive .\n",
    "\n",
    "You can also download the custom config file from the official [AlexeyAB Github](https://www.github.com/AlexeyAB/darknet)\n",
    "\n",
    "\n",
    "**You need to make the following changes in your custom config file:**\n",
    "\n",
    "*   change line batch to batch=64\n",
    "*   change line subdivisions to subdivisions=16\n",
    "*   change line max_batches to (classes*2000 but not less than number of training images and not less than 6000), f.e. max_batches=6000 if you train for 3 classes\n",
    "*    change line steps to 80% and 90% of max_batches, f.e. steps=4800,5400\n",
    "*    set network size width=416 height=416 or any value multiple of 32\n",
    "*    change line classes=80 to your number of objects in each of 3 [yolo]-layers\n",
    "*    change [filters=255] to filters=(classes + 5)x3 in the 3 [convolutional] before each [yolo] layer, keep in mind that it only has to be the last [convolutional] before each of the [yolo] layers.\n",
    "     So if classes=1 then it should be filters=18. If classes=2 then write filters=21.\n",
    "\n"
   ]
  },
  {
   "cell_type": "markdown",
   "metadata": {
    "id": "n4w7wnywgDBY"
   },
   "source": [
    "## **4(c) Create your *`obj.data`* and *`obj.names`* files and upload to your drive**\n",
    "\n"
   ]
  },
  {
   "cell_type": "markdown",
   "metadata": {
    "id": "nOeyo0U2ya1K"
   },
   "source": [
    "### **obj.data**\n",
    "\n",
    "```\n",
    "classes = 2\n",
    "train  = data/train.txt\n",
    "valid  = data/test.txt\n",
    "names = data/obj.names\n",
    "backup = /mydrive/yolov4/training\n",
    "\n",
    "```"
   ]
  },
  {
   "cell_type": "markdown",
   "metadata": {
    "id": "mcRuvcGuXQeX"
   },
   "source": [
    "## **4(d) Upload the *`process.py`* script file to the *`yolov4`* folder on your drive**\n",
    "\n",
    "**To divide all image files into 2 parts. 90% for train and 10% for test.**\n",
    "\n",
    "This *`process.py`* script creates the files *`train.txt`* & *`test.txt`* where the *`train.txt`* file has paths to 90% of the images and *`test.txt`* has paths to 10% of the images.\n"
   ]
  },
  {
   "cell_type": "markdown",
   "metadata": {
    "id": "eePMIIY3ZNlU"
   },
   "source": [
    "# **5) Make changes in the `makefile` to enable OPENCV and GPU**"
   ]
  },
  {
   "cell_type": "code",
   "execution_count": null,
   "metadata": {
    "id": "7_9IL3Lwd_-l"
   },
   "outputs": [],
   "source": [
    "# change makefile to have GPU and OPENCV enabled\n",
    "# also set CUDNN, CUDNN_HALF and LIBSO to 1\n",
    "\n",
    "%cd ../yoloV4-ppe-detection-model/darknet\n",
    "!sed -i 's/OPENCV=0/OPENCV=1/' Makefile\n",
    "!sed -i 's/GPU=0/GPU=1/' Makefile\n",
    "!sed -i 's/CUDNN=0/CUDNN=1/' Makefile\n",
    "!sed -i 's/CUDNN_HALF=0/CUDNN_HALF=1/' Makefile\n",
    "!sed -i 's/LIBSO=0/LIBSO=1/' Makefile"
   ]
  },
  {
   "cell_type": "code",
   "execution_count": null,
   "metadata": {},
   "outputs": [],
   "source": [
    "!echo $PATH"
   ]
  },
  {
   "cell_type": "markdown",
   "metadata": {
    "id": "PXwypSyyZfwm"
   },
   "source": [
    "# **6) Run `make` command to build darknet**"
   ]
  },
  {
   "cell_type": "code",
   "execution_count": null,
   "metadata": {
    "id": "SGGqpRrueHsS"
   },
   "outputs": [],
   "source": [
    "# build darknet \n",
    "!make"
   ]
  },
  {
   "cell_type": "markdown",
   "metadata": {
    "id": "4NaDcNEMNI8B"
   },
   "source": [
    "# **7) Copy all the files from the *`yolov4`* folder to the darknet directory**"
   ]
  },
  {
   "cell_type": "code",
   "execution_count": 1,
   "metadata": {
    "id": "10exdo06Mk8F"
   },
   "outputs": [
    {
     "name": "stdout",
     "output_type": "stream",
     "text": [
      "[Errno 2] No such file or directory: 'data/'\n",
      "/home/rushikesh/Documents/RK\n",
      "/home/rushikesh/Documents\n"
     ]
    }
   ],
   "source": [
    "# Clean the data and cfg folders first except the labels folder in data which is required\n",
    "\n",
    "%cd data/\n",
    "!find -maxdepth 1 -type f -exec rm -rf {} \\;\n",
    "%cd ..\n",
    "\n",
    "%rm -rf cfg/\n",
    "%mkdir cfg"
   ]
  },
  {
   "cell_type": "markdown",
   "metadata": {},
   "source": [
    "# unzip data in to data folder"
   ]
  },
  {
   "cell_type": "code",
   "execution_count": null,
   "metadata": {
    "id": "cKG8HZFes8ut"
   },
   "outputs": [],
   "source": [
    "# Unzip the obj.zip dataset and its contents so that they are now in /darknet/data/ folder \n",
    "!unzip ../yoloV4-ppe-detection-model/obj.zip -d data/"
   ]
  },
  {
   "cell_type": "code",
   "execution_count": null,
   "metadata": {
    "id": "R_4kviylurEF"
   },
   "outputs": [],
   "source": [
    "# Copy the yolov4-custom.cfg file so that it is now in /darknet/cfg/ folder \n",
    "\n",
    "!cp ../yoloV4-ppe-detection-model/yolov4-custom.cfg cfg\n",
    "\n",
    "# verify if your custom file is in cfg folder\n",
    "!ls cfg/"
   ]
  },
  {
   "cell_type": "code",
   "execution_count": null,
   "metadata": {
    "id": "_j6tBzGqv83I"
   },
   "outputs": [],
   "source": [
    "# Copy the obj.names and obj.data files from your drive so that they are now in /darknet/data/ folder \n",
    "\n",
    "!cp ../yoloV4-ppe-detection-model/obj.names data\n",
    "!cp ../yoloV4-ppe-detection-model/obj.data  data\n",
    "\n",
    "# verify if the above files are in data folder\n",
    "!ls data/"
   ]
  },
  {
   "cell_type": "code",
   "execution_count": null,
   "metadata": {
    "id": "Su2Jcjynv9my"
   },
   "outputs": [],
   "source": [
    "# Copy the process.py file to the current darknet directory \n",
    "\n",
    "!cp ../yoloV4-ppe-detection-model/process.py ."
   ]
  },
  {
   "cell_type": "markdown",
   "metadata": {
    "id": "PXqC6Jdnca8b"
   },
   "source": [
    "# **8) Run the *`process.py`* python script to create the *`train.txt`* & *`test.txt`* files inside the *data* folder**"
   ]
  },
  {
   "cell_type": "code",
   "execution_count": null,
   "metadata": {
    "id": "dhJ17EufwFp8"
   },
   "outputs": [],
   "source": [
    "# run process.py ( this creates the train.txt and test.txt files in our darknet/data folder )\n",
    "!python process.py\n",
    "\n",
    "# list the contents of data folder to check if the train.txt and test.txt files have been created \n",
    "!ls data/"
   ]
  },
  {
   "cell_type": "markdown",
   "metadata": {
    "id": "Ja3ym-zPcw2e"
   },
   "source": [
    "# **9) Download the pre-trained *`yolov4`* weights**"
   ]
  },
  {
   "cell_type": "code",
   "execution_count": null,
   "metadata": {
    "id": "l6Sy14UfadVK"
   },
   "outputs": [],
   "source": [
    "# Download the yolov4 pre-trained weights file\n",
    "!wget https://github.com/AlexeyAB/darknet/releases/download/darknet_yolo_v3_optimal/yolov4.conv.137"
   ]
  },
  {
   "cell_type": "markdown",
   "metadata": {
    "id": "j347nPDvv5R4",
    "tags": []
   },
   "source": [
    "# **10) TRAINING**"
   ]
  },
  {
   "cell_type": "markdown",
   "metadata": {
    "id": "Pe-dldgMvdLF",
    "tags": []
   },
   "source": [
    "## **Train your custom detector** \n",
    "\n",
    "For best results, you should stop the training when the average loss is less than 0.05 if possible or at least below 0.3, else train the model until the average loss does not show any significant change for a while."
   ]
  },
  {
   "cell_type": "code",
   "execution_count": null,
   "metadata": {
    "id": "imc0NP19hLuq"
   },
   "outputs": [],
   "source": [
    "# train your custom detector! (uncomment %%capture below if you run into memory issues or your Colab is crashing)\n",
    "# %%capture\n",
    "    \n",
    "!./darknet detector train data/obj.data cfg/yolov4-custom.cfg yolov4.conv.137 -map"
   ]
  },
  {
   "cell_type": "markdown",
   "metadata": {
    "id": "Er-vGZk9Gxuc",
    "tags": []
   },
   "source": [
    "### **<ins>NOTE</ins>:** If you get disconnected or lose your session for some reason you have to run steps 2, 5, and 6 again to mount the drive, edit makefile and build darknet every single time, otherwise the darknet executable will not work."
   ]
  },
  {
   "cell_type": "markdown",
   "metadata": {
    "id": "5gNvWI18ltTE",
    "tags": []
   },
   "source": [
    "## **To restart your training (In case the training does not finish and you get disconnected)**\n",
    "\n",
    "If you get disconnected or lose your session, you don't have to start training your model from scratch again. You can restart training from where you left off. Use the weights that were saved last. The weights are saved every 100 iterations as ***yolov4-custom_last.weights*** in the ***yoloV4-ppe-detection-model/training*** folder on your drive. (The path we gave as backup in \"obj.data\" file).\n",
    "\n",
    "\n",
    "### **So to restart training run only Steps 2, 5, 6 and then run the following command**"
   ]
  },
  {
   "cell_type": "code",
   "execution_count": null,
   "metadata": {
    "id": "alYjxUlLhQET"
   },
   "outputs": [],
   "source": [
    "#to restart training your custom detector where you left off(using the weights that were saved last)\n",
    "\n",
    "!./darknet detector train data/obj.data cfg/yolov4-custom.cfg ../yoloV4-ppe-detection-model/training/yolov4-custom_last.weights -dont_show -map\n"
   ]
  },
  {
   "cell_type": "markdown",
   "metadata": {
    "id": "93ZR1Cv5iSiH"
   },
   "source": [
    "# **11) Check performance** \n",
    "\n"
   ]
  },
  {
   "cell_type": "code",
   "execution_count": null,
   "metadata": {
    "id": "GmjcPvWyarZ6"
   },
   "outputs": [],
   "source": [
    "# define helper function imShow\n",
    "def imShow(path):\n",
    "    import cv2\n",
    "    import matplotlib.pyplot as plt\n",
    "    %matplotlib inline\n",
    "\n",
    "    image = cv2.imread(path)\n",
    "    height, width = image.shape[:2]\n",
    "    resized_image = cv2.resize(image,(3*width, 3*height), interpolation = cv2.INTER_CUBIC)\n",
    "\n",
    "    fig = plt.gcf()\n",
    "    fig.set_size_inches(18, 10)\n",
    "    plt.axis(\"off\")\n",
    "    plt.imshow(cv2.cvtColor(resized_image, cv2.COLOR_BGR2RGB))\n",
    "    plt.show()\n"
   ]
  },
  {
   "cell_type": "markdown",
   "metadata": {
    "id": "LfxMeSSO1cM1"
   },
   "source": [
    "**Check the training chart**"
   ]
  },
  {
   "cell_type": "code",
   "execution_count": null,
   "metadata": {
    "id": "oqS9hbGtauPT"
   },
   "outputs": [],
   "source": [
    "#only works if the training does not get interrupted\n",
    "imShow('chart.png')\n"
   ]
  },
  {
   "cell_type": "markdown",
   "metadata": {
    "id": "Xa9j0M4-au8q"
   },
   "source": [
    "**Check mAP (mean average precision)**"
   ]
  },
  {
   "cell_type": "code",
   "execution_count": null,
   "metadata": {
    "id": "qhlceb1YiEwu"
   },
   "outputs": [],
   "source": [
    "##You can check the mAP for all the saved weights to see which gives the best results ( xxxx here is the saved weight number like 4000, 5000 or 6000 snd so on )\n",
    "\n",
    "!./darknet detector map data/obj.data cfg/yolov4-custom.cfg ../yoloV4-ppe-detection-model/training/yolov4-custom_last.weights -points 0"
   ]
  },
  {
   "cell_type": "markdown",
   "metadata": {
    "id": "lkVfpYU3vK-W"
   },
   "source": [
    "# **12) Test your custom Object Detector**"
   ]
  },
  {
   "cell_type": "markdown",
   "metadata": {
    "id": "hRoFfkBFT7Hm"
   },
   "source": [
    "## **Make changes to your custom config file**\n",
    "*   change line batch to batch=1\n",
    "*   change line subdivisions to subdivisions=1\n",
    "\n",
    "You can do it either manually or by simply running the code below"
   ]
  },
  {
   "cell_type": "code",
   "execution_count": null,
   "metadata": {
    "id": "UddToJtjkSaO"
   },
   "outputs": [],
   "source": [
    "#set your custom cfg to test mode \n",
    "%cd cfg\n",
    "!sed -i 's/batch=64/batch=1/' yolov4-custom.cfg\n",
    "!sed -i 's/subdivisions=16/subdivisions=1/' yolov4-custom.cfg\n",
    "%cd .."
   ]
  },
  {
   "cell_type": "markdown",
   "metadata": {
    "id": "NGzCTHKliv16"
   },
   "source": [
    "## **Run detector on an image**"
   ]
  },
  {
   "cell_type": "code",
   "execution_count": null,
   "metadata": {
    "id": "VUBkR6JgU4tX"
   },
   "outputs": [],
   "source": [
    "# run your custom detector with this command (upload an image to your google drive to test, the thresh flag sets the minimum accuracy required for object detection)\n",
    "\n",
    "!./darknet detector test data/obj.data cfg/yolov4-custom.cfg ../yoloV4-ppe-detection-model/training/yolov4-custom_last.weights ../yoloV4-ppe-detection-model/test/img.jpg -i 0 -thresh 0.7\n",
    "imShow('predictions.jpg')"
   ]
  }
 ],
 "metadata": {
  "accelerator": "GPU",
  "colab": {
   "collapsed_sections": [],
   "machine_shape": "hm",
   "name": "SSPL_Face_yolov4_custom_model.ipynb",
   "private_outputs": true,
   "provenance": []
  },
  "kernelspec": {
   "display_name": "Python 3 (ipykernel)",
   "language": "python",
   "name": "python3"
  },
  "language_info": {
   "codemirror_mode": {
    "name": "ipython",
    "version": 3
   },
   "file_extension": ".py",
   "mimetype": "text/x-python",
   "name": "python",
   "nbconvert_exporter": "python",
   "pygments_lexer": "ipython3",
   "version": "3.8.10"
  }
 },
 "nbformat": 4,
 "nbformat_minor": 4
}
